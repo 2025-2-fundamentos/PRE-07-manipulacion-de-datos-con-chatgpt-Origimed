{
 "cells": [
  {
   "cell_type": "code",
   "execution_count": 2,
   "id": "13031662",
   "metadata": {},
   "outputs": [
    {
     "data": {
      "application/vnd.microsoft.datawrangler.viewer.v0+json": {
       "columns": [
        {
         "name": "index",
         "rawType": "int64",
         "type": "integer"
        },
        {
         "name": "driverId",
         "rawType": "int64",
         "type": "integer"
        },
        {
         "name": "week",
         "rawType": "int64",
         "type": "integer"
        },
        {
         "name": "hours-logged",
         "rawType": "int64",
         "type": "integer"
        },
        {
         "name": "miles-logged",
         "rawType": "int64",
         "type": "integer"
        },
        {
         "name": "hours-logged_mean",
         "rawType": "float64",
         "type": "float"
        }
       ],
       "ref": "bd45b50c-3e3c-4682-9859-76ee6c83673f",
       "rows": [
        [
         "2",
         "10",
         "3",
         "60",
         "2800",
         "62.15384615384615"
        ],
        [
         "9",
         "10",
         "10",
         "50",
         "2500",
         "62.15384615384615"
        ],
        [
         "19",
         "10",
         "20",
         "30",
         "1200",
         "62.15384615384615"
        ],
        [
         "20",
         "10",
         "21",
         "50",
         "2500",
         "62.15384615384615"
        ],
        [
         "25",
         "10",
         "26",
         "60",
         "2600",
         "62.15384615384615"
        ],
        [
         "27",
         "10",
         "28",
         "33",
         "1200",
         "62.15384615384615"
        ],
        [
         "34",
         "10",
         "35",
         "0",
         "0",
         "62.15384615384615"
        ],
        [
         "35",
         "10",
         "36",
         "19",
         "1000",
         "62.15384615384615"
        ],
        [
         "45",
         "10",
         "46",
         "57",
         "2300",
         "62.15384615384615"
        ],
        [
         "50",
         "10",
         "51",
         "5",
         "150",
         "62.15384615384615"
        ],
        [
         "51",
         "10",
         "52",
         "0",
         "0",
         "62.15384615384615"
        ],
        [
         "52",
         "11",
         "1",
         "50",
         "3000",
         "70.03846153846153"
        ],
        [
         "57",
         "11",
         "6",
         "70",
         "3400",
         "70.03846153846153"
        ],
        [
         "66",
         "11",
         "15",
         "0",
         "0",
         "70.03846153846153"
        ],
        [
         "67",
         "11",
         "16",
         "0",
         "0",
         "70.03846153846153"
        ],
        [
         "72",
         "11",
         "21",
         "70",
         "3500",
         "70.03846153846153"
        ],
        [
         "73",
         "11",
         "22",
         "70",
         "3500",
         "70.03846153846153"
        ],
        [
         "74",
         "11",
         "23",
         "70",
         "3500",
         "70.03846153846153"
        ],
        [
         "86",
         "11",
         "35",
         "70",
         "3500",
         "70.03846153846153"
        ],
        [
         "87",
         "11",
         "36",
         "70",
         "3500",
         "70.03846153846153"
        ],
        [
         "88",
         "11",
         "37",
         "70",
         "3500",
         "70.03846153846153"
        ],
        [
         "92",
         "11",
         "41",
         "0",
         "0",
         "70.03846153846153"
        ],
        [
         "93",
         "11",
         "42",
         "0",
         "0",
         "70.03846153846153"
        ],
        [
         "94",
         "11",
         "43",
         "0",
         "0",
         "70.03846153846153"
        ],
        [
         "100",
         "11",
         "49",
         "65",
         "3100",
         "70.03846153846153"
        ],
        [
         "103",
         "11",
         "52",
         "0",
         "0",
         "70.03846153846153"
        ],
        [
         "104",
         "12",
         "1",
         "49",
         "2783",
         "50.75"
        ],
        [
         "105",
         "12",
         "2",
         "50",
         "2505",
         "50.75"
        ],
        [
         "108",
         "12",
         "5",
         "47",
         "2791",
         "50.75"
        ],
        [
         "109",
         "12",
         "6",
         "47",
         "2702",
         "50.75"
        ],
        [
         "112",
         "12",
         "9",
         "46",
         "2578",
         "50.75"
        ],
        [
         "113",
         "12",
         "10",
         "47",
         "2605",
         "50.75"
        ],
        [
         "116",
         "12",
         "13",
         "46",
         "2775",
         "50.75"
        ],
        [
         "117",
         "12",
         "14",
         "48",
         "2665",
         "50.75"
        ],
        [
         "118",
         "12",
         "15",
         "45",
         "2569",
         "50.75"
        ],
        [
         "123",
         "12",
         "20",
         "49",
         "2501",
         "50.75"
        ],
        [
         "126",
         "12",
         "23",
         "45",
         "2620",
         "50.75"
        ],
        [
         "127",
         "12",
         "24",
         "45",
         "2534",
         "50.75"
        ],
        [
         "130",
         "12",
         "27",
         "47",
         "2762",
         "50.75"
        ],
        [
         "132",
         "12",
         "29",
         "50",
         "2790",
         "50.75"
        ],
        [
         "135",
         "12",
         "32",
         "48",
         "2702",
         "50.75"
        ],
        [
         "137",
         "12",
         "34",
         "47",
         "2700",
         "50.75"
        ],
        [
         "138",
         "12",
         "35",
         "50",
         "2758",
         "50.75"
        ],
        [
         "144",
         "12",
         "41",
         "46",
         "2786",
         "50.75"
        ],
        [
         "145",
         "12",
         "42",
         "47",
         "2730",
         "50.75"
        ],
        [
         "149",
         "12",
         "46",
         "48",
         "2557",
         "50.75"
        ],
        [
         "151",
         "12",
         "48",
         "50",
         "2725",
         "50.75"
        ],
        [
         "153",
         "12",
         "50",
         "47",
         "2553",
         "50.75"
        ],
        [
         "155",
         "12",
         "52",
         "0",
         "0",
         "50.75"
        ],
        [
         "156",
         "13",
         "1",
         "49",
         "2643",
         "52.44230769230769"
        ]
       ],
       "shape": {
        "columns": 5,
        "rows": 824
       }
      },
      "text/html": [
       "<div>\n",
       "<style scoped>\n",
       "    .dataframe tbody tr th:only-of-type {\n",
       "        vertical-align: middle;\n",
       "    }\n",
       "\n",
       "    .dataframe tbody tr th {\n",
       "        vertical-align: top;\n",
       "    }\n",
       "\n",
       "    .dataframe thead th {\n",
       "        text-align: right;\n",
       "    }\n",
       "</style>\n",
       "<table border=\"1\" class=\"dataframe\">\n",
       "  <thead>\n",
       "    <tr style=\"text-align: right;\">\n",
       "      <th></th>\n",
       "      <th>driverId</th>\n",
       "      <th>week</th>\n",
       "      <th>hours-logged</th>\n",
       "      <th>miles-logged</th>\n",
       "      <th>hours-logged_mean</th>\n",
       "    </tr>\n",
       "  </thead>\n",
       "  <tbody>\n",
       "    <tr>\n",
       "      <th>2</th>\n",
       "      <td>10</td>\n",
       "      <td>3</td>\n",
       "      <td>60</td>\n",
       "      <td>2800</td>\n",
       "      <td>62.153846</td>\n",
       "    </tr>\n",
       "    <tr>\n",
       "      <th>9</th>\n",
       "      <td>10</td>\n",
       "      <td>10</td>\n",
       "      <td>50</td>\n",
       "      <td>2500</td>\n",
       "      <td>62.153846</td>\n",
       "    </tr>\n",
       "    <tr>\n",
       "      <th>19</th>\n",
       "      <td>10</td>\n",
       "      <td>20</td>\n",
       "      <td>30</td>\n",
       "      <td>1200</td>\n",
       "      <td>62.153846</td>\n",
       "    </tr>\n",
       "    <tr>\n",
       "      <th>20</th>\n",
       "      <td>10</td>\n",
       "      <td>21</td>\n",
       "      <td>50</td>\n",
       "      <td>2500</td>\n",
       "      <td>62.153846</td>\n",
       "    </tr>\n",
       "    <tr>\n",
       "      <th>25</th>\n",
       "      <td>10</td>\n",
       "      <td>26</td>\n",
       "      <td>60</td>\n",
       "      <td>2600</td>\n",
       "      <td>62.153846</td>\n",
       "    </tr>\n",
       "    <tr>\n",
       "      <th>...</th>\n",
       "      <td>...</td>\n",
       "      <td>...</td>\n",
       "      <td>...</td>\n",
       "      <td>...</td>\n",
       "      <td>...</td>\n",
       "    </tr>\n",
       "    <tr>\n",
       "      <th>1756</th>\n",
       "      <td>43</td>\n",
       "      <td>41</td>\n",
       "      <td>51</td>\n",
       "      <td>2701</td>\n",
       "      <td>52.884615</td>\n",
       "    </tr>\n",
       "    <tr>\n",
       "      <th>1760</th>\n",
       "      <td>43</td>\n",
       "      <td>45</td>\n",
       "      <td>46</td>\n",
       "      <td>2671</td>\n",
       "      <td>52.884615</td>\n",
       "    </tr>\n",
       "    <tr>\n",
       "      <th>1762</th>\n",
       "      <td>43</td>\n",
       "      <td>47</td>\n",
       "      <td>50</td>\n",
       "      <td>2572</td>\n",
       "      <td>52.884615</td>\n",
       "    </tr>\n",
       "    <tr>\n",
       "      <th>1763</th>\n",
       "      <td>43</td>\n",
       "      <td>48</td>\n",
       "      <td>52</td>\n",
       "      <td>2517</td>\n",
       "      <td>52.884615</td>\n",
       "    </tr>\n",
       "    <tr>\n",
       "      <th>1767</th>\n",
       "      <td>43</td>\n",
       "      <td>52</td>\n",
       "      <td>48</td>\n",
       "      <td>2764</td>\n",
       "      <td>52.884615</td>\n",
       "    </tr>\n",
       "  </tbody>\n",
       "</table>\n",
       "<p>824 rows × 5 columns</p>\n",
       "</div>"
      ],
      "text/plain": [
       "      driverId  week  hours-logged  miles-logged  hours-logged_mean\n",
       "2           10     3            60          2800          62.153846\n",
       "9           10    10            50          2500          62.153846\n",
       "19          10    20            30          1200          62.153846\n",
       "20          10    21            50          2500          62.153846\n",
       "25          10    26            60          2600          62.153846\n",
       "...        ...   ...           ...           ...                ...\n",
       "1756        43    41            51          2701          52.884615\n",
       "1760        43    45            46          2671          52.884615\n",
       "1762        43    47            50          2572          52.884615\n",
       "1763        43    48            52          2517          52.884615\n",
       "1767        43    52            48          2764          52.884615\n",
       "\n",
       "[824 rows x 5 columns]"
      ]
     },
     "execution_count": 2,
     "metadata": {},
     "output_type": "execute_result"
    }
   ],
   "source": [
    "# %%\n",
    "# Cargue los datos de las tabla \"files/input/drivers.csv\" a una variable llamada\n",
    "# drivers, usando pandas \n",
    "import pandas as pd\n",
    "drivers = pd.read_csv(\"../files/input/drivers.csv\")\n",
    "\n",
    "\n",
    "# %%\n",
    "# Cargue los datos de las tabla \"files/input/timesheet.csv\" a una variable llamada\n",
    "# timesheet, usando pandas\n",
    "timesheet = pd.read_csv(\"../files/input/timesheet.csv\")\n",
    "\n",
    "# %%\n",
    "# Calcule el promedio de las columnas \"hours-logged\" y \"miles-logged\" en la \n",
    "# tabla \"timesheet\", agrupando los resultados por cada conductor (driverId).\n",
    "avg_timesheet = timesheet.groupby(\"driverId\")[[\"hours-logged\", \"miles-logged\"]].mean().reset_index()\n",
    "avg_timesheet\n",
    "\n",
    "# %%\n",
    "# Cree una tabla llamada \"timesheet_with_means\" basada en la tabla \"timesheet\", \n",
    "# agregando una columna con el promedio de \"hours-logged\" para cada conductor (driverId).\n",
    "timesheet_with_means = timesheet.merge(avg_timesheet[[\"driverId\", \"hours-logged\"]], on=\"driverId\", suffixes=(\"\", \"_mean\"))\n",
    "\n",
    "# %%\n",
    "# Cree una tabla llamada \"timesheet_below\" a partir de \"timesheet_with_means\", filtrando los registros \n",
    "# donde \"hours-logged\" sea menor que \"mean_hours-logged\".\n",
    "timesheet_below = timesheet_with_means[timesheet_with_means[\"hours-logged\"] < timesheet_with_means[\"hours-logged_mean\"]]\n",
    "timesheet_below\n",
    "\n",
    "# %%"
   ]
  }
 ],
 "metadata": {
  "kernelspec": {
   "display_name": "predictiva",
   "language": "python",
   "name": "python3"
  },
  "language_info": {
   "codemirror_mode": {
    "name": "ipython",
    "version": 3
   },
   "file_extension": ".py",
   "mimetype": "text/x-python",
   "name": "python",
   "nbconvert_exporter": "python",
   "pygments_lexer": "ipython3",
   "version": "3.13.5"
  }
 },
 "nbformat": 4,
 "nbformat_minor": 5
}
